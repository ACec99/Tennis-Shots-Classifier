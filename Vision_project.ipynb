{
  "cells": [
    {
      "cell_type": "markdown",
      "metadata": {
        "id": "L23NlcPhHVke"
      },
      "source": [
        "# **SETTINGS AND IMPORTS**\n",
        "Set the hyperparameters, import all the needed libraries and mount Google Drive to retrieve data."
      ]
    },
    {
      "cell_type": "code",
      "execution_count": 1,
      "metadata": {
        "id": "lehSH8fvxnFc"
      },
      "outputs": [],
      "source": [
        "NUM_EPOCHS = 300\n",
        "NUM_HIDDEN = 128\n",
        "NUM_FEATURES = 36 #(2 X 18)\n",
        "NUM_CLASSES = 10\n",
        "NUM_LAYERS = 3\n",
        "BATCH_SIZE = 32\n",
        "DROPOUT = 0.5\n",
        "LEARNING_RATE = 0.001\n",
        "APPLY_WEIGHTS = True\n",
        "BIDIRECTIONAL = True\n",
        "DROPOUT_2D = 0.3"
      ]
    },
    {
      "cell_type": "code",
      "execution_count": null,
      "metadata": {
        "id": "tyKdNHRcflA9"
      },
      "outputs": [],
      "source": [
        "gpu_info = !nvidia-smi\n",
        "gpu_info = '\\n'.join(gpu_info)\n",
        "if gpu_info.find('failed') >= 0:\n",
        "  print('Not connected to a GPU')\n",
        "else:\n",
        "  print(gpu_info)"
      ]
    },
    {
      "cell_type": "code",
      "execution_count": null,
      "metadata": {
        "id": "tmbH9gIhrXVN"
      },
      "outputs": [],
      "source": [
        "import torch\n",
        "\n",
        "import json\n",
        "import matplotlib.pyplot as plt\n",
        "\n",
        "import pandas as pd\n",
        "import pickle\n",
        "\n",
        "import os\n",
        "from os.path import exists, join, basename, splitext\n",
        "import datetime\n",
        "\n",
        "import subprocess\n",
        "import traceback\n",
        "\n",
        "import torch.nn as nn\n",
        "import torch.nn.functional as F\n",
        "import torch.optim as optim\n",
        "from torchvision import transforms \n",
        "from torch.utils.data import Dataset, DataLoader, random_split\n",
        "\n",
        "!pip install torchmetrics\n",
        "import torchmetrics\n",
        "from torchmetrics.classification import MulticlassF1Score\n",
        "\n",
        "from sklearn.model_selection import train_test_split\n",
        "from sklearn.metrics import f1_score\n",
        "from sklearn.model_selection import GridSearchCV\n",
        "from sklearn.metrics import confusion_matrix\n",
        "from sklearn.metrics import precision_score, recall_score\n",
        "import seaborn as sns\n",
        "from prettytable import PrettyTable\n",
        "\n",
        "import numpy as np"
      ]
    },
    {
      "cell_type": "code",
      "execution_count": null,
      "metadata": {
        "id": "O0yjSXs803qf"
      },
      "outputs": [],
      "source": [
        "from google.colab import drive\n",
        "drive.mount('/content/drive')"
      ]
    },
    {
      "cell_type": "markdown",
      "metadata": {
        "id": "Ub8ynPlaxdIa"
      },
      "source": [
        "# **OPENPOSE INSTALLATION**\n",
        "**EXECUTE ONLY FOR THE FIRST TIME!** \n",
        "\n",
        "Install the pre-trained model called [*OpenPose*](https://github.com/CMU-Perceptual-Computing-Lab/openpose.git), which lets us extract the body_joints from the videos (pose in COCO standard).\n",
        "\n",
        "Note that: to use COCO standard, we modified the \"openpose/CMakeLists.txt\" file in order to build an instance of OpenPose based only on COCO model (by default the installation process downloads only BODY_25 model)."
      ]
    },
    {
      "cell_type": "code",
      "execution_count": null,
      "metadata": {
        "id": "lHRPw45pB5EK"
      },
      "outputs": [],
      "source": [
        "git_repo_url = 'https://github.com/CMU-Perceptual-Computing-Lab/openpose.git'\n",
        "project_name = splitext(basename(git_repo_url))[0]\n",
        "\n",
        "if not exists(project_name):\n",
        "  # see: https://github.com/CMU-Perceptual-Computing-Lab/openpose/issues/949\n",
        "  # install new CMake becaue of CUDA10\n",
        "  !wget -q https://cmake.org/files/v3.13/cmake-3.13.0-Linux-x86_64.tar.gz\n",
        "  !tar xfz cmake-3.13.0-Linux-x86_64.tar.gz --strip-components=1 -C /usr/local\n",
        "  # clone openpose\n",
        "  !git clone -q --depth 1 $git_repo_url\n",
        "  !sed -i 's/execute_process(COMMAND git checkout master WORKING_DIRECTORY ${CMAKE_SOURCE_DIR}\\/3rdparty\\/caffe)/execute_process(COMMAND git checkout f019d0dfe86f49d1140961f8c7dec22130c83154 WORKING_DIRECTORY ${CMAKE_SOURCE_DIR}\\/3rdparty\\/caffe)/g' openpose/CMakeLists.txt\n",
        "  # install system dependencies\n",
        "  !apt-get -qq install -y libatlas-base-dev libprotobuf-dev libleveldb-dev libsnappy-dev libhdf5-serial-dev protobuf-compiler libgflags-dev libgoogle-glog-dev liblmdb-dev opencl-headers ocl-icd-opencl-dev libviennacl-dev\n",
        "  # install python dependencies\n",
        "  #!pip install -q youtube-dl\n",
        "  # build openpose\n",
        "\n",
        "  !cd openpose\n",
        "\n",
        "  torch.backends.cudnn.enabled = True\n",
        "\n",
        "  #after that we have to modify the CMake file ( put ON the download of COCO and OFF the others )\n",
        "\n",
        "  with open(\"openpose/CMakeLists.txt\", \"a\") as file:\n",
        "    file.write(\"option(USE_CUDNN \\\"Use CUDNN library\\\" ON)\\n\")\n",
        "\n",
        "  result1 = subprocess.run([\"sed\", \"-i\", \"s/option(DOWNLOAD_BODY_COCO_MODEL \\\"Download body 18-keypoint COCO model.\\\" OFF)/option(DOWNLOAD_BODY_COCO_MODEL \\\"Download body 18-keypoint COCO model.\\\" ON)/g\", \"/content/openpose/CMakeLists.txt\"], capture_output=True, text=True)\n",
        "  result2 = subprocess.run([\"sed\", \"-i\", \"s/option(DOWNLOAD_BODY_25_MODEL \\\"Download body 25-keypoint (body COCO and 6-keypoint foot) model.\\\" ON)/option(DOWNLOAD_BODY_25_MODEL \\\"Download body 25-keypoint (body COCO and 6-keypoint foot) model.\\\" OFF)/g\", \"/content/openpose/CMakeLists.txt\"], capture_output=True, text=True)\n",
        "  result3 = subprocess.run([\"sed\", \"-i\", \"s/option(DOWNLOAD_FACE_MODEL \\\"Download face model.\\\" ON)/option(DOWNLOAD_FACE_MODEL \\\"Download face model.\\\" OFF)/g\", \"/content/openpose/CMakeLists.txt\"], capture_output=True, text=True)\n",
        "  result4 = subprocess.run([\"sed\", \"-i\", \"s/option(DOWNLOAD_HAND_MODEL \\\"Download hand model.\\\" ON)/option(DOWNLOAD_HAND_MODEL \\\"Download hand model.\\\" OFF)/g\", \"/content/openpose/CMakeLists.txt\"], capture_output=True, text=True)\n",
        "\n",
        "  if result1.returncode != 0:\n",
        "    print(\"Failed to run the command\")\n",
        "    print(\"Error message:\", result1.stderr)\n",
        "  elif result2.returncode != 0:\n",
        "    print(\"Failed to run the command\")\n",
        "    print(\"Error message:\", result2.stderr)\n",
        "  elif result3.returncode != 0:\n",
        "    print(\"Failed to run the command\")\n",
        "    print(\"Error message:\", result3.stderr)\n",
        "  elif result4.returncode != 0:\n",
        "    print(\"Failed to run the command\")\n",
        "    print(\"Error message:\", result4.stderr)\n",
        "  else:\n",
        "    print(result1.stdout)\n",
        "    print(result2.stdout)\n",
        "    print(result3.stdout)\n",
        "    print(result4.stdout)\n",
        "\n",
        "    !cd openpose && rm -rf build || true && mkdir build && cd build && cmake .. && make -j`nproc`"
      ]
    },
    {
      "cell_type": "markdown",
      "metadata": {
        "id": "ElaxDNXe5NRs"
      },
      "source": [
        "# **CREATION OF THE DATASET**\n",
        "**EXECUTE ONLY FOR THE FIRST TIME!** \n",
        "\n",
        "1. Take the [*THETIS Dataset*](http://thetis.image.ece.ntua.gr/) (we chose to use only RGB videos, to see all the other folders click the link).\n",
        "2. Extract body_joints (x, y, confidence_score) from each frame of every video in the dataset\n",
        "3. Create a dataset list with each video represented by a label (that indicates the type of shot) and a list of frames (with padding, where needed)\n",
        "4. Convert it into a csv file.\n",
        "\n",
        "\n"
      ]
    },
    {
      "cell_type": "code",
      "execution_count": null,
      "metadata": {
        "id": "Qpok8y-ydbC7"
      },
      "outputs": [],
      "source": [
        "#unzip the THETIS DATASET (we chose to use only RGB videos)\n",
        "!unzip /content/drive/MyDrive/Vision_Project_Utils/VIDEO_RGB.zip "
      ]
    },
    {
      "cell_type": "code",
      "execution_count": null,
      "metadata": {
        "id": "4f2D0Apy4guy"
      },
      "outputs": [],
      "source": [
        "#build the initial video dataset table, by extracting video paths from the VIDEO_RGB folder\n",
        "\n",
        "dir_dataset = os.listdir('/content/drive/MyDrive/Vision_Project_Utils/VIDEO_RGB')\n",
        "\n",
        "shots = []\n",
        "\n",
        "for channel in dir_dataset:\n",
        "  dir_specific_shot = os.listdir( '/content/drive/MyDrive/Vision_Project_Utils/VIDEO_RGB' + '/' + channel)\n",
        "  for video_file in dir_specific_shot:\n",
        "    shots.append(((channel, str('/content/drive/MyDrive/Vision_Project_Utils/VIDEO_RGB' + '/' + channel) + video_file, str(video_file))))\n",
        "\n",
        "temp_dataset = pd.DataFrame(data=shots,columns=['label','video_path','video_name'])\n",
        "print(temp_dataset)\n"
      ]
    },
    {
      "cell_type": "code",
      "execution_count": null,
      "metadata": {
        "id": "tRiheXK3B4uE"
      },
      "outputs": [],
      "source": [
        "#method to extract body_joints from one video\n",
        "\n",
        "def extract_features(label_name,complete_name):\n",
        "  video_name = complete_name.split(\".\")[0]\n",
        "  dir_frames_video = '/content/frames/' + video_name + '_tmp_frames'\n",
        "  dir_output_json = '/content/videos_joints/' + video_name + '_output_json/'\n",
        "  try:\n",
        "    os.makedirs(dir_frames_video)\n",
        "  except OSError as e1:\n",
        "    print(\"Creation of the directory %s failed\" % dir_frames_video)\n",
        "    print(\"Error:\", e1)\n",
        "    print(traceback.format_exc())\n",
        "  try:\n",
        "    os.makedirs(dir_output_json)\n",
        "  except OSError as e2: \n",
        "    print(\"Creation of the directory %s failed\" % dir_output_json)\n",
        "    print(\"Error:\", e2)\n",
        "    print(traceback.format_exc())\n",
        "\n",
        "  input_file = \"/content/drive/MyDrive/Vision_Project_Utils/VIDEO_RGB\" + label_name + \"/\" + complete_name\n",
        "  output_file = '/content/frames/' + video_name + '_tmp_frames/%09d.png'\n",
        "\n",
        "  #divide videos in frames\n",
        "  try:\n",
        "    subprocess.run([\"ffmpeg\", \"-i\", input_file, output_file], check=True)\n",
        "  except subprocess.CalledProcessError as e:\n",
        "    print(\"ffmpeg command failed:\", e)\n",
        "\n",
        "  # detect poses \n",
        "  !rm openpose.avi\n",
        "\n",
        "  image_dir = '/content/frames/' + video_name + '_tmp_frames/'\n",
        "  output_json = dir_output_json\n",
        "\n",
        "  #takes frames folder and, for each frame, extracts body_joint features and put them in output_json\n",
        "  command = f\"cd openpose && ./build/examples/openpose/openpose.bin --model_pose COCO --image_dir {image_dir} --write_json {output_json} --display 0 --number_people_max 1 --write_video_fps 18 --write_video ../openpose.avi\"\n",
        "\n",
        "  \n",
        "  process = subprocess.Popen(command, shell=True, stdout=subprocess.PIPE, stderr=subprocess.PIPE)\n",
        "  stdout, stderr = process.communicate()"
      ]
    },
    {
      "cell_type": "markdown",
      "metadata": {
        "id": "2xqMGlPqfmq1"
      },
      "source": [
        "Extraction of the features (joints) for each frame of each video:"
      ]
    },
    {
      "cell_type": "code",
      "execution_count": null,
      "metadata": {
        "id": "xlXzUcrScf3Q"
      },
      "outputs": [],
      "source": [
        "dir_videos_joints = \"/content/videos_joints/\"\n",
        "dir_frames = \"/content/frames/\"\n",
        "\n",
        "try:\n",
        "  os.makedirs(dir_frames)\n",
        "except OSError as e1:\n",
        "  print(\"Creation of the directory %s failed\" % dir_frames)\n",
        "  print(\"Error:\", e1)\n",
        "  print(traceback.format_exc())\n",
        "\n",
        "try:\n",
        "  os.makedirs(dir_videos_joints)\n",
        "except OSError as e2:\n",
        "  print(\"Creation of the directory %s failed\" % dir_videos_joints)\n",
        "  print(\"Error:\", e2)\n",
        "  print(traceback.format_exc())\n",
        "\n",
        "#take from temp_dataset (a pd.DataFrame) the useful data to build the dataset, and put them in videos_joints folder\n",
        "for index, row in temp_dataset.iterrows():\n",
        "  extract_features(row['label'],row['video_name'])"
      ]
    },
    {
      "cell_type": "code",
      "execution_count": null,
      "metadata": {
        "id": "-o6588nlr0eG"
      },
      "outputs": [],
      "source": [
        "#takes as input one json file, representing one frame, and converts it into an array of joint coordinates\n",
        "\n",
        "def json_to_list(dir_json_files, file_json):\n",
        "\n",
        "  try:\n",
        "    my_json_file = open(os.path.join(dir_json_files,file_json),'r') #open the particular json file corresponding to the currently analized frame\n",
        "    json_data = my_json_file.read()\n",
        "    obj = json.loads(json_data) #convert json file to a python object\n",
        "    array_joints = obj['people']# get(\"pose_keypoints_2d\") \n",
        "\n",
        "    if not array_joints:\n",
        "      print(\"my list of people is empty\")\n",
        "      return []\n",
        "    else:\n",
        "      array_joints = obj['people'][0][\"pose_keypoints_2d\"]\n",
        "      return array_joints\n",
        "  except FileNotFoundError:\n",
        "    print(\"my_json_file not found.\")\n",
        "  except:\n",
        "    print(\"An error occurred while loading the my_json_file.\")"
      ]
    },
    {
      "cell_type": "code",
      "execution_count": null,
      "metadata": {
        "id": "uI_jVG5Xr1Sb"
      },
      "outputs": [],
      "source": [
        "#initialize the labels related to the different tennis strokes\n",
        "\n",
        "dict_labels = {\n",
        "    'backhand': 0,\n",
        "    #'bslice': 1, since there aren't enough videos to analize, we decided to dump them \n",
        "    #'bvolley': 2,\n",
        "    'backhand2h': 1,\n",
        "    'serflat': 2,\n",
        "    'foreflat': 3,\n",
        "    'foreopen': 4,\n",
        "    'fslice': 5,\n",
        "    'fvolley': 6,\n",
        "    'serkick': 7,\n",
        "    'serslice': 8,\n",
        "    'smash': 9\n",
        "}"
      ]
    },
    {
      "cell_type": "code",
      "execution_count": null,
      "metadata": {
        "id": "Y1YRRc_S-vle"
      },
      "outputs": [],
      "source": [
        "#create the dataset list, strarting from videos_joints folder\n",
        "\n",
        "def create_dataset(dir_dataset, dict_labels): \n",
        "  dataset = []\n",
        "  i=0\n",
        "  for folder in dir_dataset:\n",
        "    dir_folder = \"/content/drive/MyDrive/Vision_Project_Utils/videos_joints/\" + folder\n",
        "    dir_folder_list = os.listdir(dir_folder)\n",
        "    video = []\n",
        "    name = str(folder)\n",
        "    label_name = name.split('_')[1]\n",
        "    if label_name in dict_labels:\n",
        "      class_idx = dict_labels[label_name]\n",
        "      for f_json in dir_folder_list:\n",
        "        frame = json_to_list(dir_folder,f_json) \n",
        "        video.append(frame)\n",
        "      video.insert(0,class_idx)\n",
        "      dataset.append(video)\n",
        "      print(\"Inseriti \"+str(i)+\" video nel dataset!\")\n",
        "      i+=1\n",
        "  return dataset\n",
        "  "
      ]
    },
    {
      "cell_type": "code",
      "execution_count": null,
      "metadata": {
        "id": "B2jMg_iiqOB4"
      },
      "outputs": [],
      "source": [
        "#create and save the list corresponding to our dataset in a \".pickle\" file (binary file)\n",
        "\n",
        "dir_dataset = os.listdir(\"/content/drive/MyDrive/Vision_Project_Utils/videos_joints\")\n",
        "dataset= create_dataset(dir_dataset, dict_labels)\n",
        "\n",
        "with open(\"/content/drive/MyDrive/Vision_Project_Utils/dataset.pickle\", \"wb\") as file:\n",
        "    pickle.dump(dataset, file)"
      ]
    },
    {
      "cell_type": "code",
      "execution_count": null,
      "metadata": {
        "id": "HVUV-YmrinMl"
      },
      "outputs": [],
      "source": [
        "#method used to compute the padding frame for a specific video\n",
        "#Since a body_joint consists in (x,y,confidence_score) coordinates,\n",
        "#we compute the average of x and y among all the frames,\n",
        "#while we put as third coordinate (corresponding to the confidence_score) a low value (since it's not a true body_joint/frame)\n",
        "\n",
        "def mean_frame_vector(video):\n",
        "    mean_frame = []\n",
        "    for i in range(54): #frame dimension\n",
        "        if (i+1)%3 != 0:\n",
        "          flattened = [sublist[i] for sublist in video] \n",
        "          mean = sum(flattened) / len(flattened)\n",
        "          mean_frame.append(mean)\n",
        "        else: #it's a confidence score\n",
        "          mean_frame.append(0.01) #low confidence score assigned to the mean frame vector\n",
        "    return mean_frame\n"
      ]
    },
    {
      "cell_type": "code",
      "execution_count": null,
      "metadata": {
        "id": "yjlVt6x4ikA3"
      },
      "outputs": [],
      "source": [
        "#creates the dataset pd.DataFrame from the dataset list, \n",
        "#adding the padding frames to each video that has less frames than the max number of frames \n",
        "\n",
        "def create_dataset_PD(dataset):\n",
        "\n",
        "  max_cols = max([len(video) - 1 for video in dataset]) #from the longest video, we obtain the max number of frames \n",
        "\n",
        "  df = pd.DataFrame(columns=['label'] + [f'frame_{i}' for i in range(max_cols)])\n",
        "\n",
        "  for video in dataset:\n",
        "    if video and isinstance(video[0], int):\n",
        "      label = video[0]\n",
        "      frames = video[1:]\n",
        "      if frames:\n",
        "        frames = frames + [mean_frame_vector(frames) for j in range(max_cols - len(frames))]\n",
        "        df.loc[i] = ([label] + frames)\n",
        "  return df"
      ]
    },
    {
      "cell_type": "code",
      "execution_count": null,
      "metadata": {
        "id": "w6HdoAbfPAiu"
      },
      "outputs": [],
      "source": [
        "#takes the dataset list from the binary pickle file\n",
        "with open(\"/content/drive/MyDrive/Vision_Project_Utils/dataset.pickle\", \"rb\") as file:\n",
        "    dataset_loaded = pickle.load(file)"
      ]
    },
    {
      "cell_type": "code",
      "execution_count": null,
      "metadata": {
        "id": "ZVNhrtUTNEmG"
      },
      "outputs": [],
      "source": [
        "#delete empty frames in videos\n",
        "for i in range(len(dataset_loaded)):\n",
        "  dataset_loaded[i][1:] = list(filter(None, dataset_loaded[i][1:]))\n",
        "#creation of the pandas table of the dataset (composed by the label and the original joint values for each frame of each video)\n",
        "table = create_dataset_PD(dataset_loaded)\n",
        "print(table)\n",
        "#creation of the dataset csv\n",
        "table.to_csv('/content/drive/MyDrive/Vision_Project_Utils/dataset.csv',index=False) "
      ]
    },
    {
      "cell_type": "markdown",
      "metadata": {
        "id": "djLkRQM_VZrl"
      },
      "source": [
        "# **DATASET SUDDIVISION & PREPARATION**\n",
        "Preprocessing of the dataset, with:\n",
        "*   Affine transformation, to make data invariant to body position and dimension\n",
        "*   Split in training, validation and testing sets\n",
        "*   Normalization\n",
        "*   Creation of Dataloaders\n",
        "\n",
        "\n",
        "\n"
      ]
    },
    {
      "cell_type": "markdown",
      "metadata": {
        "id": "GlnhuFG05hyz"
      },
      "source": [
        "**First suddivision**\n",
        "- training set\n",
        "- testing set\n",
        "\n",
        "**Second suddivision**: we have to split another time the training set, in order to form the validation set\n",
        "- training set\n",
        "- validation set"
      ]
    },
    {
      "cell_type": "code",
      "execution_count": 5,
      "metadata": {
        "id": "FmeoqkTviv5K"
      },
      "outputs": [],
      "source": [
        "#from the dataset.csv file, we extract the data and labels lists (in numpy format)\n",
        "\n",
        "data_csv = pd.read_csv('/content/drive/MyDrive/Vision_Project_Utils/dataset.csv',delimiter=',',header=None)\n",
        "\n",
        "videos_list = []\n",
        "labels_list = []\n",
        "for i in range(1, len(data_csv)):\n",
        "  frames_list = []\n",
        "  for j in range(len((data_csv).columns)):\n",
        "    if j == 0:\n",
        "      labels_list.append(int(data_csv.iloc[i,j]))\n",
        "    else:\n",
        "      frames_list.append(np.array((eval(data_csv.iloc[i,j])),dtype=float))\n",
        "  frames_list = np.array(frames_list)\n",
        "  videos_list.append(frames_list)\n",
        "\n",
        "data = np.array(videos_list)\n",
        "labels = np.array(labels_list)"
      ]
    },
    {
      "cell_type": "code",
      "execution_count": 6,
      "metadata": {
        "id": "AgTCb8NZooan"
      },
      "outputs": [],
      "source": [
        "#compute the affine transform matrix, \n",
        "#with scale and translation terms based on the mean and standard deviation of shoulders body_joint coordinates\n",
        "\n",
        "total_shoulders = []\n",
        "\n",
        "for video in data:\n",
        "  shoulders = np.array([np.concatenate((frame[6:8],frame[15:17])) for frame in video])\n",
        "  mean_shoulders = np.mean(shoulders, axis=0)\n",
        "  total_shoulders.append(mean_shoulders)\n",
        "\n",
        "total_shoulders = np.array(total_shoulders)\n",
        "mean__total_shoulders = np.mean(total_shoulders, axis=0)\n",
        "total_shoulders_centered = total_shoulders - mean__total_shoulders\n",
        "std_total_shoulders = np.std(total_shoulders_centered)\n",
        "total_shoulders_normalized = total_shoulders_centered / std_total_shoulders\n",
        "\n",
        "s_x, s_y = np.std(total_shoulders_normalized, axis=0)[:2]\n",
        "t_x, t_y = -mean_shoulders[:2] / std_total_shoulders\n",
        "affine_matrix = np.array([[s_x, 0, t_x], [0, s_y, t_y], [0, 0, 1]])\n",
        "data_reshaped = data.reshape(1620,150,18,3)"
      ]
    },
    {
      "cell_type": "code",
      "execution_count": null,
      "metadata": {
        "id": "oXb4dTapt97P"
      },
      "outputs": [],
      "source": [
        "#apply the affine matrix to scale and translate all the other joints in each video:\n",
        "#in this way we obtain coordinates invariant w.r.t. body position and dimension! \n",
        "\n",
        "data_norm = []\n",
        "for i in range(len(data_reshaped)):\n",
        "  video = data_reshaped[i]\n",
        "  normalized_joints = []\n",
        "  for frame in video:\n",
        "    base = np.zeros_like(frame)\n",
        "    coord = frame[:,:2]\n",
        "    weights = frame[:,2]\n",
        "\n",
        "    joints_homogeneous = np.concatenate([coord, np.ones((coord.shape[0], 1))], axis=1)\n",
        "    normalized_joints_homogeneous = np.dot(joints_homogeneous, affine_matrix)\n",
        "    base[:,:2] = normalized_joints_homogeneous[:, :2]\n",
        "    base[:,2] = weights\n",
        "    normalized_joints.append(base)\n",
        "\n",
        "  normalized_joints = np.array(normalized_joints)\n",
        "  data_norm.append(normalized_joints)\n",
        "\n",
        "data_norm = np.array(data_norm).reshape(1620,150,54)\n",
        "\n",
        "print(data_norm.shape)"
      ]
    },
    {
      "cell_type": "markdown",
      "metadata": {
        "id": "uiZw3Ww9NQms"
      },
      "source": [
        "Suddivision:"
      ]
    },
    {
      "cell_type": "code",
      "execution_count": 8,
      "metadata": {
        "id": "8QRaVxO_oHeP"
      },
      "outputs": [],
      "source": [
        "#suddivision in training set and testing sets (proportion of target classes is maintained in both sets by using \"stratify\" parameter)\n",
        "train_data, test_data, train_labels, test_labels = train_test_split(data_norm, labels, test_size=0.2, shuffle=True, stratify=labels) \n",
        "\n",
        "#second suddivision in order to create validation set => suddivision of the training set into training and validation sets\n",
        "train_data, val_data, train_labels, val_labels = train_test_split(train_data, train_labels, test_size=0.4, stratify=train_labels) "
      ]
    },
    {
      "cell_type": "code",
      "execution_count": 9,
      "metadata": {
        "id": "E7-ikWUahKPV"
      },
      "outputs": [],
      "source": [
        "# Define a custom normalization function that normalizes only x and y values\n",
        "\n",
        "def normalize(frame, mean, std):\n",
        "  normalized_frame = np.zeros_like(frame)\n",
        "  normalized_frame[:, :2] = (frame[:, :2] - mean) / std\n",
        "  normalized_frame[:, 2] = frame[:, 2]\n",
        "  return normalized_frame"
      ]
    },
    {
      "cell_type": "markdown",
      "metadata": {
        "id": "sjh-4XbTm6wJ"
      },
      "source": [
        "Creation of the custom dataset class:"
      ]
    },
    {
      "cell_type": "code",
      "execution_count": 10,
      "metadata": {
        "id": "A5DpmID-PR1R"
      },
      "outputs": [],
      "source": [
        "class BodyJointsDataset(Dataset): \n",
        "\n",
        "  def __init__(self, data, labels, mean, std, n_c): #remember! the mean and the std_deviation must be computed through all the training data.\n",
        "                                                        #Then, we will use them (mean and std_deviation) to normalize the training, validation and testing data\n",
        "\n",
        "    self.X = data\n",
        "\n",
        "    self.Y = labels\n",
        "    \n",
        "    self.mean = mean\n",
        "\n",
        "    self.std = std\n",
        "\n",
        "    self.num_classes = n_c\n",
        "\n",
        "  def __len__(self): #it must return the total number of samples that we have in the dataset\n",
        "\n",
        "        return self.X.shape[0]\n",
        "\n",
        "  def __getitem__(self, idx_sample): #getitem must return the set of frames of a specific video \"X\" (in position idx_sample) and its specific label \"y\"\n",
        "                                    # Before returning, X is normalized and transformed into a tensor\n",
        "    X , y = self.X[idx_sample] , self.Y[idx_sample]\n",
        "\n",
        "    # Apply the custom normalization function to the frames\n",
        "    X = np.array([normalize(frame, self.mean, self.std) for frame in X])\n",
        "    X = torch.tensor(X, dtype=torch.float32)\n",
        "\n",
        "    return X , y "
      ]
    },
    {
      "cell_type": "markdown",
      "metadata": {
        "id": "LxObd03BNEi0"
      },
      "source": [
        "Preparation of sets and dataloaders:"
      ]
    },
    {
      "cell_type": "code",
      "execution_count": 11,
      "metadata": {
        "id": "D8vhA3Nv5gvr"
      },
      "outputs": [],
      "source": [
        "#First, we need to reshape train_data (in order to compute mean and std only on (x,y), and not on confidence_score)\n",
        "new_train_data= train_data.reshape(train_data.shape[0], train_data.shape[1], 18, 3)\n",
        "#We also reshape the test and validation set\n",
        "new_test_data= test_data.reshape(test_data.shape[0], test_data.shape[1], 18, 3)\n",
        "new_val_data= val_data.reshape(val_data.shape[0], val_data.shape[1], 18, 3)\n",
        "\n",
        "# Extract x, y, and confidence score values from the frames in train_data\n",
        "train_data_xy= (new_train_data[:, :, :, :2])\n",
        "\n",
        "# Calculate the mean and std values for each (x, y) coordinate in train_data, in order to do Z-score normalization\n",
        "mean = train_data_xy.mean(axis=(0, 1, 2))\n",
        "std = train_data_xy.std(axis=(0, 1, 2))\n",
        "\n",
        "#initialize train, test and validation sets\n",
        "train_dataset = BodyJointsDataset(new_train_data, train_labels, mean, std, NUM_CLASSES)\n",
        "test_dataset = BodyJointsDataset(new_test_data, test_labels, mean, std, NUM_CLASSES)\n",
        "validation_dataset = BodyJointsDataset(new_val_data, val_labels, mean, std, NUM_CLASSES)\n",
        "\n",
        "# Create dataloaders for the training, testing, and validation sets\n",
        "train_dataloader = DataLoader(train_dataset, batch_size=BATCH_SIZE)\n",
        "test_dataloader = DataLoader(test_dataset, batch_size=BATCH_SIZE)\n",
        "val_dataloader = DataLoader(validation_dataset, batch_size=BATCH_SIZE)"
      ]
    },
    {
      "cell_type": "markdown",
      "metadata": {
        "id": "WrC7Ce2byMRW"
      },
      "source": [
        "# **MODEL IMPLEMENTATION & TRAINING PHASE**\n",
        "1. LSTM-Based Model with:\n",
        "  *   Dropout2d Layer\n",
        "  *   Bidirectional LSTM (with layers=num_layers)\n",
        "  *   Attention Layer (with Dot-Product Attention)\n",
        "  *   Output Layer (Fully-Connected layer)\n",
        "  \n",
        "  Note that Dropout2d Layer, Bidirectional and Attention Layer can be enabled/disabled through hyperparameters.\n",
        "2. TRAINER, with both Training and Validation Phases\n",
        "3. EXECUTE, with:\n",
        "  *   model = TennisShotsClassificationLSTM object\n",
        "  *   loss = CrossEntropyLoss \n",
        "  *   optimizer = Adagrad\n",
        "4. PLOT Loss, Accuracy and F1-Score\n",
        "\n"
      ]
    },
    {
      "cell_type": "code",
      "execution_count": 12,
      "metadata": {
        "id": "-TKGmvcbr-uY"
      },
      "outputs": [],
      "source": [
        "class TennisShotsClassificationLSTM(nn.Module):\n",
        "  def __init__(self, h_s:int, n_f:int, n_c:int, n_l:int, b_s:int, d_o:float, apply_weights:bool, bd:bool):\n",
        "    super(TennisShotsClassificationLSTM,self).__init__()\n",
        "    \n",
        "    #if we choose a Bidirectional-LSTM, we double the hidden_size\n",
        "    if bd == True:\n",
        "      self.hidden_size = 2*h_s\n",
        "    else:\n",
        "      self.hidden_size = h_s\n",
        "\n",
        "    self.num_features = n_f\n",
        "    self.num_classes = n_c\n",
        "    self.num_layers = n_l\n",
        "    self.batch_size = b_s\n",
        "    self.dropout = d_o\n",
        "    self.apply_weights = apply_weights\n",
        "    self.bidirectional = bd\n",
        "\n",
        "    #This dropout acts on the singular joints: in this way we deactivate some joints (with a probability equal to DROPOUT_2D), \n",
        "    #before passing the input to the LSTM\n",
        "    self.dropout = nn.Dropout2d(p=DROPOUT_2D)\n",
        "\n",
        "    self.lstm = nn.LSTM(input_size=n_f, \n",
        "                        hidden_size=h_s, \n",
        "                        num_layers=n_l, \n",
        "                        batch_first=True,\n",
        "                        dropout = d_o,\n",
        "                        bidirectional=bd\n",
        "                        )\n",
        "\n",
        "    #ATTENTION LAYER\n",
        "    self.query = nn.Linear(self.hidden_size, self.hidden_size)\n",
        "    self.key = nn.Linear(self.hidden_size, self.hidden_size)\n",
        "    self.value = nn.Linear(self.hidden_size, self.hidden_size)\n",
        "\n",
        "    self.softmax = nn.LogSoftmax(dim=2)                    \n",
        "    self.classifier = nn.Linear(self.hidden_size,n_c)\n",
        "\n",
        "  def forward(self,sequence: torch.Tensor): #sequence represents the tensor of dimension (batch_size, num_frames, num_features)\n",
        "    #To make predictions not influenced by padding frames, we apply a mask to each video (1 for true frames, 0 for padding frames)\n",
        "    mask = torch.ones_like(sequence)\n",
        "    mask[sequence[:,:,:,2] == 0.01] = 0\n",
        "\n",
        "    seq_lengths = torch.tensor([]) #list(int), in which each int \"i\" represents the number of true frames in the i-th video\n",
        "    for video in mask:\n",
        "      tensor = torch.sum(video,dim=0)\n",
        "      seq_lengths = torch.cat((seq_lengths,torch.tensor([tensor[0][0]])),dim=0)\n",
        "\n",
        "    joints_sequence = sequence[:, :, :, :2]  # Extract joint data (shape: (batch_size, num_frames, num_joints, 2))\n",
        "    \n",
        "    if DROPOUT_2D != 0: #since Dropout2d acts only on the last dimension, we first have to permute the last two dimensions, \n",
        "                        #in order to execute dropout only on joints (and not on single coordinates, which would otherwise be changed in values)\n",
        "      joints_sequence = joints_sequence.permute(0, 1, 3, 2)\n",
        "      joints_sequence = self.dropout(joints_sequence)\n",
        "      joints_sequence = joints_sequence.permute(0, 1, 3, 2)\n",
        "\n",
        "    joints_sequence = joints_sequence.reshape(joints_sequence.shape[0], joints_sequence.shape[1], -1) #in order to pass to lstm a 3D sequence\n",
        "\n",
        "    #with \"pack_padded_sequence\", we create a PackedSequence object that masks the padding frames, but makes the joints_sequence still an accettable input for the LSTM\n",
        "    packed_joints_sequence = torch.nn.utils.rnn.pack_padded_sequence(joints_sequence, lengths=seq_lengths, batch_first=True, enforce_sorted=False)\n",
        "\n",
        "    self.lstm.flatten_parameters()\n",
        "\n",
        "    packed_output,(h_n, _) = self.lstm(packed_joints_sequence)\n",
        "    \n",
        "    output = torch.nn.utils.rnn.pad_packed_sequence(packed_output, batch_first=True)[0] #retrieve the actual output data\n",
        "\n",
        "    if self.bidirectional==True:\n",
        "      h_final = torch.cat((h_n[-2], h_n[-1]), dim=1)  # shape=(batch_size, h_s*2), concat final hidden states of Bidirectional-LSTM\n",
        "    else:\n",
        "      h_final = h_n[-1] #shape=(batch_size, h_s)\n",
        "    \n",
        "    if self.apply_weights == True:\n",
        "      attention_input = output.reshape(-1,self.hidden_size) #shape=(batch_size*num_frames, hidden_size)\n",
        "\n",
        "      query = self.query(h_final).unsqueeze(1)  #shape=(batch_size, 1, hidden_size)\n",
        "      key = self.key(attention_input) #shape=(batch_size*num_frames, hidden_size)\n",
        "      value = self.value(attention_input) #shape=(batch_size*num_frames, hidden_size)\n",
        "\n",
        "      key = key.reshape(output.shape[0], output.shape[1], -1) #(batch_size, num_frames, hidden_size)\n",
        "      value = value.reshape(output.shape[0], output.shape[1], -1) #(batch_size, num_frames, hidden_size)\n",
        "\n",
        "      energy =  torch.bmm(query,key.transpose(1,2)) #shape=(batch_size, 1, hidden_size) * (batch_size, hidden_size, num_frames) = (batch_size, 1, num_frames)\n",
        "      attention = self.softmax(energy) \n",
        "\n",
        "      weights = torch.bmm(attention,value) #shape=(batch_size, 1, hidden_size)\n",
        "\n",
        "      weights = weights.squeeze(1) #shape=(batch_size, hidden_size)\n",
        "\n",
        "      h_final = h_final + weights #add the weights to the output of LSTM, that will be passed to the fully connected layer\n",
        "    \n",
        "    if self.apply_weights==True:\n",
        "      fc_out= self.classifier(h_final)\n",
        "      return fc_out\n",
        "    else:\n",
        "      output = output.reshape(-1, self.hidden_size)\n",
        "      fc_out= self.classifier(output)\n",
        "      #Reshape dell'output per tornare alla forma (batch_size, num_frames, num_classes)\n",
        "      fc_out = fc_out.reshape(sequence.shape[0], -1, self.num_classes)\n",
        "      #To have only one prediction distribution for each video, we compute the mean over the first dimension of fc_out\n",
        "      fc_out_avg = fc_out.mean(axis=1)#shape=(batch_size, num_classes)\n",
        "      return fc_out_avg"
      ]
    },
    {
      "cell_type": "code",
      "execution_count": 13,
      "metadata": {
        "id": "nkyfL9acXWtk"
      },
      "outputs": [],
      "source": [
        "class TennisShotsTrainer:\n",
        "      def __init__(self, train_dataloader, valid_dataloader, model, optimizer, loss, num_classes, \n",
        "                   metric, metric_weighted, device, save_folder, num_features, batch_size):\n",
        "        \n",
        "        self.train_dataloader = train_dataloader\n",
        "        self.val_dataloader = valid_dataloader\n",
        "        self.model = model\n",
        "        self.optimizer = optimizer\n",
        "        self.loss = loss\n",
        "        self.num_classes = num_classes\n",
        "        self.metric = metric\n",
        "        self.metric_weighted = metric_weighted\n",
        "        self.device = device\n",
        "        self.save_folder = save_folder\n",
        "        \n",
        "        self.history = {\n",
        "                        \"NUM_EPOCHS\" : NUM_EPOCHS,\n",
        "                        \"NUM_HIDDEN\" : NUM_HIDDEN,\n",
        "                        \"NUM_FEATURES\" : num_features,\n",
        "                        \"NUM_LAYERS\" : NUM_LAYERS,\n",
        "                        \"BATCH_SIZE\" : batch_size,\n",
        "                        \"DROPOUT\" : DROPOUT,\n",
        "                        \"LEARNING_RATE\" : LEARNING_RATE,\n",
        "                        \"APPLY_WEIGHTS\" : APPLY_WEIGHTS,\n",
        "                        \"BIDIRECTIONAL\" : BIDIRECTIONAL,\n",
        "                        \"DROPOUT_2D\" : DROPOUT_2D,\n",
        "                        \"train_acc\":[], \n",
        "                        \"train_loss\":[], \n",
        "                        \"train_f1\":[], \n",
        "                        \"train_f1_weighted\":[], \n",
        "                        \"valid_acc\":[], \n",
        "                        \"valid_loss\":[], \n",
        "                        \"valid_f1\":[], \n",
        "                        \"valid_f1_weighted\":[] \n",
        "                        }\n",
        "\n",
        "      def train_and_validate(self):\n",
        "          \n",
        "          num_epochs = NUM_EPOCHS\n",
        "\n",
        "          t = datetime.datetime.now()\n",
        "          minute = str(t.minute)\n",
        "          if t.minute < 10:\n",
        "            minute = '0'+minute\n",
        "          daytime = str(t.year) + ':' + str(t.month) + ':' + str(t.day) + '-' + str(t.hour) + ':' + minute\n",
        "\n",
        "          save_path = self.save_folder + '/' + daytime\n",
        "\n",
        "          if not os.path.exists(save_path):\n",
        "            os.makedirs(save_path)\n",
        "\n",
        "          best_avg_valid_f1_weighted = -100\n",
        "\n",
        "          for epoch in range(1, num_epochs+1):\n",
        "\n",
        "            if epoch < 10:\n",
        "              print(f'\\nEpoch 0{epoch}:')\n",
        "            if epoch >= 10:\n",
        "              print(f'\\nEpoch {epoch}:')\n",
        "\n",
        "            # TRAINING STEP\n",
        "\n",
        "            #parameters useful to compute accuracy\n",
        "            train_correct = 0\n",
        "            train_total = len(self.train_dataloader.dataset) # number of videos in the training set\n",
        "            train_total_batches = len(self.train_dataloader) # number of batches in the training set (self.train_dataloader.dataset / BATCH_SIZE) \n",
        "            #compute and save loss and f1-score\n",
        "            train_epoch_loss = 0\n",
        "            train_epoch_f1_score = torch.zeros(10).to(self.device)\n",
        "            train_epoch_f1_score_weighted = 0\n",
        "\n",
        "            self.model.train()\n",
        "\n",
        "            for x_train , y_train in self.train_dataloader:\n",
        "              #Forward Pass\n",
        "              x_train , y_train = x_train.to(self.device), y_train.to(self.device)\n",
        "              self.optimizer.zero_grad()\n",
        "              pred = self.model(x_train)\n",
        "              #to compute loss, we have to convert true labels to \"one-hot\" format\n",
        "              one_hot = (torch.eye(self.num_classes)).to(self.device)\n",
        "              y_train_one_hot = one_hot[y_train]\n",
        "              loss = self.loss(pred,y_train_one_hot)\n",
        "              #BackPropagation\n",
        "              loss.backward()\n",
        "              #Optimization\n",
        "              self.optimizer.step()\n",
        "              #Update total train epoch loss\n",
        "              train_epoch_loss += loss\n",
        "              #Compute Accuracy\n",
        "              predicted_maxvalues= torch.argmax(pred, dim=1).to(self.device) #unidimensional tensor with size=BATCH_SIZE \n",
        "              train_correct_vector = (predicted_maxvalues==y_train)\n",
        "              train_correct += train_correct_vector.sum().item()\n",
        "              #Compute f1-Score\n",
        "              train_epoch_f1_score += self.metric(predicted_maxvalues, y_train)\n",
        "              train_epoch_f1_score_weighted += self.metric_weighted(predicted_maxvalues, y_train).item()\n",
        "            #compute epoch average loss, accuracy, f1\n",
        "            avg_train_loss = train_epoch_loss / train_total_batches #we compute the avg loss for each batch, because otherwise we would depend on the size of the dataset\n",
        "            avg_train_loss_np = avg_train_loss.cpu().detach().numpy() #to put it into self.history\n",
        "            avg_train_acc = train_correct / train_total\n",
        "            avg_train_f1 = train_epoch_f1_score / train_total_batches\n",
        "            avg_train_f1_np = avg_train_f1.cpu().numpy() #to put it into self.history\n",
        "            avg_train_f1_weighted = train_epoch_f1_score_weighted / train_total_batches\n",
        "            #print them\n",
        "            print('{} Loss: {:.4f} Accuracy: {:.4f} F1_Score: {:.4f}'.format('train', avg_train_loss, avg_train_acc, avg_train_f1_weighted))\n",
        "\n",
        "\n",
        "            # VALIDATION STEP\n",
        "\n",
        "            #parameters useful to compute accuracy\n",
        "            valid_correct = 0\n",
        "            valid_total = len(self.val_dataloader.dataset) # number of videos in the validation set\n",
        "            valid_total_batches = len(self.val_dataloader) # number of batches in the validation set (self.val_dataloader.dataset / BATCH_SIZE) \n",
        "            #compute and save loss and f1-score\n",
        "            valid_epoch_loss = 0\n",
        "            valid_epoch_f1_score = torch.zeros(10).to(self.device)\n",
        "            valid_epoch_f1_score_weighted = 0\n",
        "\n",
        "            self.model.eval()\n",
        "\n",
        "            with torch.no_grad():\n",
        "              for x_valid , y_valid in self.val_dataloader:\n",
        "                #Forward Pass\n",
        "                x_valid , y_valid = x_valid.to(self.device), y_valid.to(self.device)\n",
        "                pred = self.model(x_valid)\n",
        "                #to compute loss, we have to convert true labels to \"one-hot\" format\n",
        "                one_hot = (torch.eye(self.num_classes)).to(self.device)\n",
        "                y_valid_one_hot = one_hot[y_valid]\n",
        "                loss = self.loss(pred,y_valid_one_hot)\n",
        "                valid_epoch_loss += loss\n",
        "                #Compute Accuracy\n",
        "                predicted_maxvalues = torch.argmax(pred, dim=1).to(self.device) #unidimensional tensor with size=BATCH_SIZE \n",
        "                valid_correct += (predicted_maxvalues==y_valid).sum().item()\n",
        "                #Compute f1-Score\n",
        "                valid_epoch_f1_score += self.metric(predicted_maxvalues, y_valid)\n",
        "                valid_epoch_f1_score_weighted += self.metric_weighted(predicted_maxvalues, y_valid).item()\n",
        "              \n",
        "            #epoch average loss, accuracy, f1\n",
        "            avg_valid_loss = valid_epoch_loss / valid_total_batches\n",
        "            avg_valid_loss_np = avg_valid_loss.cpu().detach().numpy()\n",
        "            avg_valid_acc = valid_correct / valid_total\n",
        "            avg_valid_f1 = (valid_epoch_f1_score / valid_total_batches)\n",
        "            avg_valid_f1_np = avg_valid_f1.cpu().numpy()\n",
        "            avg_valid_f1_weighted = valid_epoch_f1_score_weighted / valid_total_batches\n",
        "            #print them\n",
        "            print('{} Loss: {:.4f} Accuracy: {:.4f} F1_Score: {:.4f}'.format('validation', avg_valid_loss, avg_valid_acc, avg_valid_f1_weighted))\n",
        "\n",
        "\n",
        "            # SAVE STEP\n",
        "            self.history[\"train_acc\"].append(avg_train_acc)\n",
        "            self.history[\"train_loss\"].append(avg_train_loss_np)\n",
        "            self.history[\"train_f1\"].append(avg_train_f1_np)\n",
        "            self.history[\"train_f1_weighted\"].append(avg_train_f1_weighted)\n",
        "            self.history[\"valid_acc\"].append(avg_valid_acc)\n",
        "            self.history[\"valid_loss\"].append(avg_valid_loss_np)\n",
        "            self.history[\"valid_f1\"].append(avg_valid_f1_np)\n",
        "            self.history[\"valid_f1_weighted\"].append(avg_valid_f1_weighted)\n",
        "\n",
        "            #for each epoch, verify that the model obtained by training+validating is the best yet => saves only the best\n",
        "            best_model_path = save_path + '/model.pth'\n",
        "            if avg_valid_f1_weighted > best_avg_valid_f1_weighted:\n",
        "              torch.save(self.model.state_dict(), best_model_path)\n",
        "              best_avg_valid_f1_weighted = avg_valid_f1_weighted\n",
        "\n",
        "          #for each training, save history and return it\n",
        "          history_df = pd.DataFrame(self.history)\n",
        "          history_path = save_path + '/history.csv'\n",
        "          history_df.to_csv(history_path, index=False)\n",
        "          return self.history\n",
        "\n"
      ]
    },
    {
      "cell_type": "code",
      "execution_count": null,
      "metadata": {
        "id": "_mqv0CzSy-HW"
      },
      "outputs": [],
      "source": [
        "#try to execute training on GPU\n",
        "device = torch.device(\"cuda:0\" if torch.cuda.is_available() else \"cpu\")\n",
        "print(device)\n",
        "print(torch.cuda.get_device_name(0))\n",
        "\n",
        "#create folder to save best model and history\n",
        "save_folder = '/content/drive/MyDrive/Vision_Project_Utils/Training'\n",
        "try:\n",
        "  os.makedirs(save_folder)\n",
        "except OSError as e1:\n",
        "  print(\"Creation of the directory %s failed\" % save_folder)\n",
        "  print(\"Error:\", e1)\n",
        "  print(traceback.format_exc())\n",
        "\n",
        "#initialize parameters needed by the trainer\n",
        "model = TennisShotsClassificationLSTM(NUM_HIDDEN,NUM_FEATURES,NUM_CLASSES,NUM_LAYERS,BATCH_SIZE,DROPOUT, APPLY_WEIGHTS, BIDIRECTIONAL).to(device)\n",
        "loss = nn.CrossEntropyLoss() \n",
        "#optimizer = optim.Adam(model.parameters(), LEARNING_RATE) \n",
        "#optimizer = optim.RMSprop(model.parameters(), LEARNING_RATE, momentum=0.9, weight_decay=0.001) \n",
        "optimizer = optim.Adagrad(model.parameters(), LEARNING_RATE)\n",
        "metric = MulticlassF1Score(num_classes=NUM_CLASSES, average=None).to(device)\n",
        "metric_weighted = MulticlassF1Score(num_classes=NUM_CLASSES, average='macro', zero_division='ignore').to(device)\n",
        "\n",
        "#initialize a \"TennisShotsTrainer\" object\n",
        "MrTrain = TennisShotsTrainer(train_dataloader, val_dataloader, model, optimizer,loss, NUM_CLASSES, metric, metric_weighted, device, save_folder, NUM_FEATURES, BATCH_SIZE)\n"
      ]
    },
    {
      "cell_type": "code",
      "source": [
        "#perform training and validation => return history\n",
        "history = MrTrain.train_and_validate()"
      ],
      "metadata": {
        "id": "ffn8pK5vWnr1"
      },
      "execution_count": null,
      "outputs": []
    },
    {
      "cell_type": "code",
      "execution_count": null,
      "metadata": {
        "id": "t303q77evcpd"
      },
      "outputs": [],
      "source": [
        "#Plot Loss, Accuracy and F1-Score progresses over the epochs\n",
        "epochs = range(0, NUM_EPOCHS)\n",
        "fig, axs = plt.subplots(1, 3, figsize=(35, 8))\n",
        "axs[0].plot(epochs, history[\"train_loss\"], label='Training Loss')\n",
        "axs[0].plot(epochs, history[\"valid_loss\"], label='Validation Loss')\n",
        "axs[1].plot(epochs, history[\"train_acc\"], label='Training Accuracy')\n",
        "axs[1].plot(epochs, history[\"valid_acc\"], label='Validation Accuracy')\n",
        "axs[2].plot(epochs, history[\"train_f1_weighted\"], label='Training F1-Score')\n",
        "axs[2].plot(epochs, history[\"valid_f1_weighted\"], label='Validation F1-Score')\n",
        "\n",
        "fig.suptitle('Comparison between Training and Validation Phases')\n",
        "axs[0].set_xlabel('Epoch')\n",
        "axs[0].set_ylabel('Loss')\n",
        "axs[1].set_xlabel('Epoch')\n",
        "axs[1].set_ylabel('Accuracy')\n",
        "axs[2].set_xlabel('Epoch')\n",
        "axs[2].set_ylabel('F1-Score')\n",
        "\n",
        "axs[0].legend()\n",
        "axs[1].legend()\n",
        "axs[2].legend()\n",
        "\n",
        "axs[0].set_ylim(0, 5)\n",
        "\n",
        "plt.show()"
      ]
    },
    {
      "cell_type": "markdown",
      "metadata": {
        "id": "yJxh2kfuZSfO"
      },
      "source": [
        "# **TESTING PHASE**\n",
        "Define the test method, execute it with test_dataloader and the Trainer object.\n",
        "\n",
        "The returned lists are used to compute and print the Confusion Matrix."
      ]
    },
    {
      "cell_type": "code",
      "execution_count": 15,
      "metadata": {
        "id": "oGualKyyZRuv"
      },
      "outputs": [],
      "source": [
        "def test(test_dl, model):\n",
        "  \n",
        "  #TEST STEP\n",
        "\n",
        "  #parameters useful to compute accuracy\n",
        "  test_correct = 0\n",
        "  test_total = len(test_dl.dataset) # number of videos in the test set\n",
        "  test_total_batches = len(test_dl) # number of batches in the test set (test_dl.dataset / BATCH_SIZE) \n",
        "  #compute and save loss and f1-score\n",
        "  test_loss = 0\n",
        "  test_f1 = torch.zeros(10).to(device)\n",
        "  test_f1_weighted = 0\n",
        "\n",
        "  #to compute the Confusion Matrix, we have to return the lists containing the true and predicted labels  \n",
        "  y_true_total = []\n",
        "  y_pred_total = []\n",
        "\n",
        "  model.eval()\n",
        "\n",
        "  with torch.no_grad():\n",
        "    for x_test , y_test in test_dl:\n",
        "      y_true_total.extend(y_test.tolist())\n",
        "      #Forward Pass\n",
        "      x_test , y_test = x_test.to(device), y_test.to(device)\n",
        "      pred = model(x_test)\n",
        "      #to compute loss, we have to convert true labels to \"one-hot\" format\n",
        "      one_hot = (torch.eye(NUM_CLASSES)).to(device)\n",
        "      y_test_one_hot = one_hot[y_test]\n",
        "      new_loss = loss(pred,y_test_one_hot)\n",
        "      test_loss += new_loss\n",
        "      #Compute Accuracy\n",
        "      predicted_maxvalues = torch.argmax(pred, dim=1) #unidimensional tensor with size=BATCH_SIZE \n",
        "      y_pred = predicted_maxvalues.cpu().tolist() \n",
        "      y_pred_total.extend(y_pred)\n",
        "      predicted_maxvalues = predicted_maxvalues.to(device)\n",
        "      test_correct += (predicted_maxvalues==y_test).sum().item()\n",
        "      #Compute f1-Score \n",
        "      test_f1 += metric(predicted_maxvalues, y_test)\n",
        "      test_f1_weighted += metric_weighted(predicted_maxvalues, y_test).item()\n",
        "           \n",
        "  #average loss, accuracy, f1\n",
        "  avg_test_loss = test_loss / test_total_batches\n",
        "  avg_test_acc = test_correct / test_total\n",
        "  avg_test_f1 = (test_f1 / test_total_batches)\n",
        "  avg_test_f1_weighted = test_f1_weighted / test_total_batches\n",
        "  #print them\n",
        "  print('{} Loss: {:.4f} Accuracy: {:.4f} F1_Score: {:.4f}'.format('test', avg_test_loss, avg_test_acc, avg_test_f1_weighted))\n",
        "\n",
        "  return y_true_total, y_pred_total"
      ]
    },
    {
      "cell_type": "code",
      "execution_count": 41,
      "metadata": {
        "colab": {
          "base_uri": "https://localhost:8080/",
          "height": 613
        },
        "id": "LbMQKqwEKqyy",
        "outputId": "195d6fcf-5f8e-4219-f312-fc65d61eb328"
      },
      "outputs": [
        {
          "output_type": "stream",
          "name": "stdout",
          "text": [
            "test Loss: 0.7056 Accuracy: 0.7623 F1_Score: 0.6726\n",
            "+------------+-----------+--------+\n",
            "|    Shot    | Precision | Recall |\n",
            "+------------+-----------+--------+\n",
            "|  backhand  |    0.94   |  0.91  |\n",
            "| backhand2h |    0.9    |  1.0   |\n",
            "|  serflat   |    0.79   |  0.58  |\n",
            "|  foreflat  |    0.93   |  0.79  |\n",
            "|  foreopen  |    0.91   |  0.88  |\n",
            "|   fslice   |    0.68   |  0.76  |\n",
            "|  fvolley   |    0.71   |  0.73  |\n",
            "|  serkick   |    0.6    |  0.85  |\n",
            "|  serslice  |    0.57   |  0.7   |\n",
            "|   smash    |    0.8    |  0.48  |\n",
            "+------------+-----------+--------+\n",
            "Confusion Matrix:\n"
          ]
        },
        {
          "output_type": "display_data",
          "data": {
            "text/plain": [
              "<Figure size 432x288 with 2 Axes>"
            ],
            "image/png": "[encoded data removed]"
          },
          "metadata": {
            "needs_background": "light"
          }
        }
      ],
      "source": [
        "#best_model = TennisShotsClassificationLSTM(NUM_HIDDEN,NUM_FEATURES,NUM_CLASSES,NUM_LAYERS,BATCH_SIZE,DROPOUT, APPLY_WEIGHTS, BIDIRECTIONAL).to(device)\n",
        "\n",
        "#best_model.load_state_dict(torch.load('/content/drive/MyDrive/Vision_Project_Utils/model.pth'))\n",
        "\n",
        "#y_true, y_pred = test(test_dataloader, best_model)\n",
        "\n",
        "y_true, y_pred = test(test_dataloader, model) #if you use \"best_model\", comment this!\n",
        "\n",
        "#Print Precision-Recall for each class\n",
        "precision = precision_score(y_true, y_pred, average=None)\n",
        "precision_rounded = np.round(precision, 2)\n",
        "recall = recall_score(y_true, y_pred, average=None)\n",
        "recall_rounded = np.round(recall, 2)\n",
        "\n",
        "class_names = ['backhand',\n",
        "    'backhand2h',\n",
        "    'serflat',\n",
        "    'foreflat',\n",
        "    'foreopen',\n",
        "    'fslice',\n",
        "    'fvolley',\n",
        "    'serkick',\n",
        "    'serslice',\n",
        "    'smash']\n",
        "\n",
        "table = PrettyTable()\n",
        "table.field_names = ['Shot', 'Precision', 'Recall']\n",
        "\n",
        "df = pd.DataFrame({'Precision': precision_rounded, 'Recall': recall_rounded}, index=class_names)\n",
        "for label in df.index:\n",
        "  table.add_row([label, df.loc[label][\"Precision\"], df.loc[label][\"Recall\"]])\n",
        "\n",
        "print(table.get_string())\n",
        "\n",
        "# Build the confusion matrix\n",
        "cm = confusion_matrix(y_true, y_pred)\n",
        "#compute percentages\n",
        "cm_percentages = cm / cm.sum(axis=1)[:, np.newaxis] * 100\n",
        "fmt = lambda x: '{:.1f}%'.format(x)\n",
        "\n",
        "print(\"Confusion Matrix:\")\n",
        "sns.heatmap(cm_percentages, annot=True, fmt=\".1f\", cmap='Blues', annot_kws={'size':10}, xticklabels=class_names, yticklabels=class_names)\n",
        "plt.xlabel('Predicted')\n",
        "plt.ylabel('Actual')\n",
        "plt.show()"
      ]
    }
  ],
  "metadata": {
    "accelerator": "GPU",
    "colab": {
      "collapsed_sections": [
        "L23NlcPhHVke",
        "Ub8ynPlaxdIa",
        "ElaxDNXe5NRs",
        "djLkRQM_VZrl",
        "WrC7Ce2byMRW",
        "yJxh2kfuZSfO"
      ],
      "machine_shape": "hm",
      "provenance": []
    },
    "gpuClass": "standard",
    "kernelspec": {
      "display_name": "Python 3",
      "name": "python3"
    },
    "language_info": {
      "name": "python"
    }
  },
  "nbformat": 4,
  "nbformat_minor": 0
}